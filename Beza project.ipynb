{
 "cells": [
  {
   "cell_type": "markdown",
   "id": "4ef41ecf",
   "metadata": {},
   "source": [
    "# importing library"
   ]
  },
  {
   "cell_type": "code",
   "execution_count": 7,
   "id": "9b09dbc4",
   "metadata": {},
   "outputs": [],
   "source": [
    "import numpy as np\n",
    "import pandas as pd\n",
    "import matplotlib.pyplot as plt \n",
    "import seaborn as sb\n",
    "import warnings\n",
    "from sklearn.preprocessing import LabelEncoder"
   ]
  },
  {
   "cell_type": "markdown",
   "id": "9080c7e1",
   "metadata": {},
   "source": [
    "# Loading data from excel"
   ]
  },
  {
   "cell_type": "code",
   "execution_count": 3,
   "id": "b8a83eb0",
   "metadata": {},
   "outputs": [
    {
     "data": {
      "text/html": [
       "<div>\n",
       "<style scoped>\n",
       "    .dataframe tbody tr th:only-of-type {\n",
       "        vertical-align: middle;\n",
       "    }\n",
       "\n",
       "    .dataframe tbody tr th {\n",
       "        vertical-align: top;\n",
       "    }\n",
       "\n",
       "    .dataframe thead th {\n",
       "        text-align: right;\n",
       "    }\n",
       "</style>\n",
       "<table border=\"1\" class=\"dataframe\">\n",
       "  <thead>\n",
       "    <tr style=\"text-align: right;\">\n",
       "      <th></th>\n",
       "      <th>region</th>\n",
       "      <th>are_you_pregnant</th>\n",
       "      <th>discussion_includes_husband</th>\n",
       "      <th>gilr_referred_to_health_post_or_ msi_outreach_team_to_take_up_a_method</th>\n",
       "      <th>girl_age</th>\n",
       "      <th>location_of_smart_ start_follow_up</th>\n",
       "      <th>method_received</th>\n",
       "      <th>number_of_children</th>\n",
       "      <th>pregnancy_ test</th>\n",
       "      <th>referred_ by</th>\n",
       "      <th>session_type</th>\n",
       "      <th>used_ec_or_condoms_last_time_you_had_sex</th>\n",
       "    </tr>\n",
       "  </thead>\n",
       "  <tbody>\n",
       "    <tr>\n",
       "      <th>0</th>\n",
       "      <td>Oromiya</td>\n",
       "      <td>UN - Unknown</td>\n",
       "      <td>No</td>\n",
       "      <td>No</td>\n",
       "      <td>19</td>\n",
       "      <td>Home</td>\n",
       "      <td>None</td>\n",
       "      <td>0</td>\n",
       "      <td>No - test given</td>\n",
       "      <td>WDA</td>\n",
       "      <td>Individual Session</td>\n",
       "      <td>None</td>\n",
       "    </tr>\n",
       "    <tr>\n",
       "      <th>1</th>\n",
       "      <td>Oromiya</td>\n",
       "      <td>N - Not pregnant</td>\n",
       "      <td>No</td>\n",
       "      <td>No</td>\n",
       "      <td>23</td>\n",
       "      <td>Home</td>\n",
       "      <td>None</td>\n",
       "      <td>2</td>\n",
       "      <td>No - test given</td>\n",
       "      <td>Navigator</td>\n",
       "      <td>Group Session</td>\n",
       "      <td>None</td>\n",
       "    </tr>\n",
       "    <tr>\n",
       "      <th>2</th>\n",
       "      <td>Oromiya</td>\n",
       "      <td>N - Not pregnant</td>\n",
       "      <td>No</td>\n",
       "      <td>Yes</td>\n",
       "      <td>20</td>\n",
       "      <td>Home</td>\n",
       "      <td>Implant 5 year Jadelle</td>\n",
       "      <td>1</td>\n",
       "      <td>No - test given</td>\n",
       "      <td>Navigator</td>\n",
       "      <td>Group Session</td>\n",
       "      <td>None</td>\n",
       "    </tr>\n",
       "    <tr>\n",
       "      <th>3</th>\n",
       "      <td>Oromiya</td>\n",
       "      <td>N - Not pregnant</td>\n",
       "      <td>No</td>\n",
       "      <td>Yes</td>\n",
       "      <td>24</td>\n",
       "      <td>Home</td>\n",
       "      <td>Implant 3 year Implanon</td>\n",
       "      <td>2</td>\n",
       "      <td>No - test given</td>\n",
       "      <td>HEW</td>\n",
       "      <td>Group Session</td>\n",
       "      <td>None</td>\n",
       "    </tr>\n",
       "    <tr>\n",
       "      <th>4</th>\n",
       "      <td>Oromiya</td>\n",
       "      <td>N - Not pregnant</td>\n",
       "      <td>Yes</td>\n",
       "      <td>Yes</td>\n",
       "      <td>19</td>\n",
       "      <td>Health Post</td>\n",
       "      <td>IUCD</td>\n",
       "      <td>1</td>\n",
       "      <td>No - test given</td>\n",
       "      <td>Navigator</td>\n",
       "      <td>Group Session</td>\n",
       "      <td>None</td>\n",
       "    </tr>\n",
       "  </tbody>\n",
       "</table>\n",
       "</div>"
      ],
      "text/plain": [
       "   region   are_you_pregnant discussion_includes_husband   \\\n",
       "0  Oromiya      UN - Unknown                           No   \n",
       "1  Oromiya  N - Not pregnant                           No   \n",
       "2  Oromiya  N - Not pregnant                           No   \n",
       "3  Oromiya  N - Not pregnant                           No   \n",
       "4  Oromiya  N - Not pregnant                          Yes   \n",
       "\n",
       "  gilr_referred_to_health_post_or_ msi_outreach_team_to_take_up_a_method  \\\n",
       "0                                                 No                       \n",
       "1                                                 No                       \n",
       "2                                                Yes                       \n",
       "3                                                Yes                       \n",
       "4                                                Yes                       \n",
       "\n",
       "   girl_age location_of_smart_ start_follow_up          method_received  \\\n",
       "0        19                              Home                      None   \n",
       "1        23                              Home                      None   \n",
       "2        20                              Home    Implant 5 year Jadelle   \n",
       "3        24                              Home   Implant 3 year Implanon   \n",
       "4        19                       Health Post                      IUCD   \n",
       "\n",
       "   number_of_children  pregnancy_ test referred_ by        session_type  \\\n",
       "0                   0  No - test given          WDA  Individual Session   \n",
       "1                   2  No - test given    Navigator       Group Session   \n",
       "2                   1  No - test given    Navigator       Group Session   \n",
       "3                   2  No - test given          HEW       Group Session   \n",
       "4                   1  No - test given    Navigator       Group Session   \n",
       "\n",
       "  used_ec_or_condoms_last_time_you_had_sex  \n",
       "0                                     None  \n",
       "1                                     None  \n",
       "2                                     None  \n",
       "3                                     None  \n",
       "4                                     None  "
      ]
     },
     "execution_count": 3,
     "metadata": {},
     "output_type": "execute_result"
    }
   ],
   "source": [
    "data = pd.read_excel('OTF.xlsx') \n",
    "data.head()"
   ]
  },
  {
   "cell_type": "code",
   "execution_count": 5,
   "id": "3f5df28d",
   "metadata": {},
   "outputs": [
    {
     "data": {
      "text/plain": [
       "region                                                                    0\n",
       "are_you_pregnant                                                          0\n",
       "discussion_includes_husband                                               0\n",
       "gilr_referred_to_health_post_or_ msi_outreach_team_to_take_up_a_method    0\n",
       "girl_age                                                                  0\n",
       "location_of_smart_ start_follow_up                                        0\n",
       "method_received                                                           0\n",
       "number_of_children                                                        0\n",
       "pregnancy_ test                                                           0\n",
       "referred_ by                                                              0\n",
       "session_type                                                              0\n",
       "used_ec_or_condoms_last_time_you_had_sex                                  0\n",
       "dtype: int64"
      ]
     },
     "execution_count": 5,
     "metadata": {},
     "output_type": "execute_result"
    }
   ],
   "source": [
    "data.isnull().sum()"
   ]
  },
  {
   "cell_type": "code",
   "execution_count": 8,
   "id": "ab6f1bb0",
   "metadata": {},
   "outputs": [
    {
     "data": {
      "text/plain": [
       "<AxesSubplot:>"
      ]
     },
     "execution_count": 8,
     "metadata": {},
     "output_type": "execute_result"
    },
    {
     "data": {
      "image/png": "[encoded data removed]",
      "text/plain": [
       "<Figure size 432x288 with 2 Axes>"
      ]
     },
     "metadata": {
      "needs_background": "light"
     },
     "output_type": "display_data"
    }
   ],
   "source": [
    "sb.heatmap(data.isnull())"
   ]
  },
  {
   "cell_type": "code",
   "execution_count": 9,
   "id": "65a9ec7f",
   "metadata": {},
   "outputs": [
    {
     "data": {
      "text/plain": [
       "(33012, 12)"
      ]
     },
     "execution_count": 9,
     "metadata": {},
     "output_type": "execute_result"
    }
   ],
   "source": [
    "data.shape\n"
   ]
  },
  {
   "cell_type": "code",
   "execution_count": 22,
   "id": "23be1fcf",
   "metadata": {},
   "outputs": [
    {
     "data": {
      "text/plain": [
       "(28090, 12)"
      ]
     },
     "execution_count": 22,
     "metadata": {},
     "output_type": "execute_result"
    }
   ],
   "source": [
    "#define values\n",
    "values = [15, 16, 17, 18, 19, 20, 21, 22, 23, 24]\n",
    "\n",
    "#drop rows that contain any value in the list\n",
    "data1 = data[data.girl_age.isin(values) == True]\n",
    "#define values\n",
    "region_values = ['Sidama']\n",
    "\n",
    "#drop rows that contain any value in the list\n",
    "data2 = data[data['region '].isin(region_values) == False]\n",
    "\n",
    "data2.shape"
   ]
  },
  {
   "cell_type": "code",
   "execution_count": 20,
   "id": "db7a8ddd",
   "metadata": {},
   "outputs": [
    {
     "data": {
      "text/plain": [
       "array([19, 23, 20, 24, 22, 18, 21, 16, 17, 15], dtype=int64)"
      ]
     },
     "execution_count": 20,
     "metadata": {},
     "output_type": "execute_result"
    }
   ],
   "source": [
    "data.girl_age.unique()"
   ]
  },
  {
   "cell_type": "code",
   "execution_count": null,
   "id": "b554e001",
   "metadata": {},
   "outputs": [],
   "source": []
  },
  {
   "cell_type": "code",
   "execution_count": null,
   "id": "78f4d570",
   "metadata": {},
   "outputs": [],
   "source": []
  },
  {
   "cell_type": "code",
   "execution_count": null,
   "id": "3d9101be",
   "metadata": {},
   "outputs": [],
   "source": []
  }
 ],
 "metadata": {
  "kernelspec": {
   "display_name": "Python 3 (ipykernel)",
   "language": "python",
   "name": "python3"
  },
  "language_info": {
   "codemirror_mode": {
    "name": "ipython",
    "version": 3
   },
   "file_extension": ".py",
   "mimetype": "text/x-python",
   "name": "python",
   "nbconvert_exporter": "python",
   "pygments_lexer": "ipython3",
   "version": "3.9.7"
  }
 },
 "nbformat": 4,
 "nbformat_minor": 5
}
