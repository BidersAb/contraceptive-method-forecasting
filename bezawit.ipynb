{
 "cells": [
  {
   "cell_type": "markdown",
   "id": "3241d0d5",
   "metadata": {},
   "source": [
    "# importing libraries"
   ]
  },
  {
   "cell_type": "code",
   "execution_count": 1,
   "id": "55642354",
   "metadata": {},
   "outputs": [],
   "source": [
    "import numpy as np\n",
    "import pandas as pd\n",
    "import matplotlib.pyplot as plt \n",
    "import seaborn as sns\n",
    "import warnings\n",
    "from sklearn.preprocessing import LabelEncoder"
   ]
  },
  {
   "cell_type": "markdown",
   "id": "4a6f3f77",
   "metadata": {},
   "source": [
    "# Importing Data"
   ]
  },
  {
   "cell_type": "code",
   "execution_count": 2,
   "id": "eb88bca6",
   "metadata": {},
   "outputs": [
    {
     "ename": "FileNotFoundError",
     "evalue": "[Errno 2] No such file or directory: 'C:\\\\Users\\\\bdagne\\\\OneDrive - Population Services International\\\\Desktop\\\\The data\\\\OTF.xlsx'",
     "output_type": "error",
     "traceback": [
      "\u001b[1;31m---------------------------------------------------------------------------\u001b[0m",
      "\u001b[1;31mFileNotFoundError\u001b[0m                         Traceback (most recent call last)",
      "\u001b[1;32m~\\AppData\\Local\\Temp/ipykernel_7272/304291394.py\u001b[0m in \u001b[0;36m<module>\u001b[1;34m\u001b[0m\n\u001b[1;32m----> 1\u001b[1;33m \u001b[0mdata\u001b[0m \u001b[1;33m=\u001b[0m \u001b[0mpd\u001b[0m\u001b[1;33m.\u001b[0m\u001b[0mread_excel\u001b[0m\u001b[1;33m(\u001b[0m\u001b[1;34m'C:\\\\Users\\\\bdagne\\\\OneDrive - Population Services International\\\\Desktop\\\\The data\\\\OTF.xlsx'\u001b[0m\u001b[1;33m)\u001b[0m\u001b[1;33m\u001b[0m\u001b[1;33m\u001b[0m\u001b[0m\n\u001b[0m\u001b[0;32m      2\u001b[0m \u001b[0mdata\u001b[0m\u001b[1;33m.\u001b[0m\u001b[0mhead\u001b[0m\u001b[1;33m(\u001b[0m\u001b[1;36m5\u001b[0m\u001b[1;33m)\u001b[0m\u001b[1;33m\u001b[0m\u001b[1;33m\u001b[0m\u001b[0m\n",
      "\u001b[1;32m~\\anaconda3\\lib\\site-packages\\pandas\\util\\_decorators.py\u001b[0m in \u001b[0;36mwrapper\u001b[1;34m(*args, **kwargs)\u001b[0m\n\u001b[0;32m    309\u001b[0m                     \u001b[0mstacklevel\u001b[0m\u001b[1;33m=\u001b[0m\u001b[0mstacklevel\u001b[0m\u001b[1;33m,\u001b[0m\u001b[1;33m\u001b[0m\u001b[1;33m\u001b[0m\u001b[0m\n\u001b[0;32m    310\u001b[0m                 )\n\u001b[1;32m--> 311\u001b[1;33m             \u001b[1;32mreturn\u001b[0m \u001b[0mfunc\u001b[0m\u001b[1;33m(\u001b[0m\u001b[1;33m*\u001b[0m\u001b[0margs\u001b[0m\u001b[1;33m,\u001b[0m \u001b[1;33m**\u001b[0m\u001b[0mkwargs\u001b[0m\u001b[1;33m)\u001b[0m\u001b[1;33m\u001b[0m\u001b[1;33m\u001b[0m\u001b[0m\n\u001b[0m\u001b[0;32m    312\u001b[0m \u001b[1;33m\u001b[0m\u001b[0m\n\u001b[0;32m    313\u001b[0m         \u001b[1;32mreturn\u001b[0m \u001b[0mwrapper\u001b[0m\u001b[1;33m\u001b[0m\u001b[1;33m\u001b[0m\u001b[0m\n",
      "\u001b[1;32m~\\anaconda3\\lib\\site-packages\\pandas\\io\\excel\\_base.py\u001b[0m in \u001b[0;36mread_excel\u001b[1;34m(io, sheet_name, header, names, index_col, usecols, squeeze, dtype, engine, converters, true_values, false_values, skiprows, nrows, na_values, keep_default_na, na_filter, verbose, parse_dates, date_parser, thousands, comment, skipfooter, convert_float, mangle_dupe_cols, storage_options)\u001b[0m\n\u001b[0;32m    362\u001b[0m     \u001b[1;32mif\u001b[0m \u001b[1;32mnot\u001b[0m \u001b[0misinstance\u001b[0m\u001b[1;33m(\u001b[0m\u001b[0mio\u001b[0m\u001b[1;33m,\u001b[0m \u001b[0mExcelFile\u001b[0m\u001b[1;33m)\u001b[0m\u001b[1;33m:\u001b[0m\u001b[1;33m\u001b[0m\u001b[1;33m\u001b[0m\u001b[0m\n\u001b[0;32m    363\u001b[0m         \u001b[0mshould_close\u001b[0m \u001b[1;33m=\u001b[0m \u001b[1;32mTrue\u001b[0m\u001b[1;33m\u001b[0m\u001b[1;33m\u001b[0m\u001b[0m\n\u001b[1;32m--> 364\u001b[1;33m         \u001b[0mio\u001b[0m \u001b[1;33m=\u001b[0m \u001b[0mExcelFile\u001b[0m\u001b[1;33m(\u001b[0m\u001b[0mio\u001b[0m\u001b[1;33m,\u001b[0m \u001b[0mstorage_options\u001b[0m\u001b[1;33m=\u001b[0m\u001b[0mstorage_options\u001b[0m\u001b[1;33m,\u001b[0m \u001b[0mengine\u001b[0m\u001b[1;33m=\u001b[0m\u001b[0mengine\u001b[0m\u001b[1;33m)\u001b[0m\u001b[1;33m\u001b[0m\u001b[1;33m\u001b[0m\u001b[0m\n\u001b[0m\u001b[0;32m    365\u001b[0m     \u001b[1;32melif\u001b[0m \u001b[0mengine\u001b[0m \u001b[1;32mand\u001b[0m \u001b[0mengine\u001b[0m \u001b[1;33m!=\u001b[0m \u001b[0mio\u001b[0m\u001b[1;33m.\u001b[0m\u001b[0mengine\u001b[0m\u001b[1;33m:\u001b[0m\u001b[1;33m\u001b[0m\u001b[1;33m\u001b[0m\u001b[0m\n\u001b[0;32m    366\u001b[0m         raise ValueError(\n",
      "\u001b[1;32m~\\anaconda3\\lib\\site-packages\\pandas\\io\\excel\\_base.py\u001b[0m in \u001b[0;36m__init__\u001b[1;34m(self, path_or_buffer, engine, storage_options)\u001b[0m\n\u001b[0;32m   1189\u001b[0m                 \u001b[0mext\u001b[0m \u001b[1;33m=\u001b[0m \u001b[1;34m\"xls\"\u001b[0m\u001b[1;33m\u001b[0m\u001b[1;33m\u001b[0m\u001b[0m\n\u001b[0;32m   1190\u001b[0m             \u001b[1;32melse\u001b[0m\u001b[1;33m:\u001b[0m\u001b[1;33m\u001b[0m\u001b[1;33m\u001b[0m\u001b[0m\n\u001b[1;32m-> 1191\u001b[1;33m                 ext = inspect_excel_format(\n\u001b[0m\u001b[0;32m   1192\u001b[0m                     \u001b[0mcontent_or_path\u001b[0m\u001b[1;33m=\u001b[0m\u001b[0mpath_or_buffer\u001b[0m\u001b[1;33m,\u001b[0m \u001b[0mstorage_options\u001b[0m\u001b[1;33m=\u001b[0m\u001b[0mstorage_options\u001b[0m\u001b[1;33m\u001b[0m\u001b[1;33m\u001b[0m\u001b[0m\n\u001b[0;32m   1193\u001b[0m                 )\n",
      "\u001b[1;32m~\\anaconda3\\lib\\site-packages\\pandas\\io\\excel\\_base.py\u001b[0m in \u001b[0;36minspect_excel_format\u001b[1;34m(content_or_path, storage_options)\u001b[0m\n\u001b[0;32m   1068\u001b[0m         \u001b[0mcontent_or_path\u001b[0m \u001b[1;33m=\u001b[0m \u001b[0mBytesIO\u001b[0m\u001b[1;33m(\u001b[0m\u001b[0mcontent_or_path\u001b[0m\u001b[1;33m)\u001b[0m\u001b[1;33m\u001b[0m\u001b[1;33m\u001b[0m\u001b[0m\n\u001b[0;32m   1069\u001b[0m \u001b[1;33m\u001b[0m\u001b[0m\n\u001b[1;32m-> 1070\u001b[1;33m     with get_handle(\n\u001b[0m\u001b[0;32m   1071\u001b[0m         \u001b[0mcontent_or_path\u001b[0m\u001b[1;33m,\u001b[0m \u001b[1;34m\"rb\"\u001b[0m\u001b[1;33m,\u001b[0m \u001b[0mstorage_options\u001b[0m\u001b[1;33m=\u001b[0m\u001b[0mstorage_options\u001b[0m\u001b[1;33m,\u001b[0m \u001b[0mis_text\u001b[0m\u001b[1;33m=\u001b[0m\u001b[1;32mFalse\u001b[0m\u001b[1;33m\u001b[0m\u001b[1;33m\u001b[0m\u001b[0m\n\u001b[0;32m   1072\u001b[0m     ) as handle:\n",
      "\u001b[1;32m~\\anaconda3\\lib\\site-packages\\pandas\\io\\common.py\u001b[0m in \u001b[0;36mget_handle\u001b[1;34m(path_or_buf, mode, encoding, compression, memory_map, is_text, errors, storage_options)\u001b[0m\n\u001b[0;32m    709\u001b[0m         \u001b[1;32melse\u001b[0m\u001b[1;33m:\u001b[0m\u001b[1;33m\u001b[0m\u001b[1;33m\u001b[0m\u001b[0m\n\u001b[0;32m    710\u001b[0m             \u001b[1;31m# Binary mode\u001b[0m\u001b[1;33m\u001b[0m\u001b[1;33m\u001b[0m\u001b[0m\n\u001b[1;32m--> 711\u001b[1;33m             \u001b[0mhandle\u001b[0m \u001b[1;33m=\u001b[0m \u001b[0mopen\u001b[0m\u001b[1;33m(\u001b[0m\u001b[0mhandle\u001b[0m\u001b[1;33m,\u001b[0m \u001b[0mioargs\u001b[0m\u001b[1;33m.\u001b[0m\u001b[0mmode\u001b[0m\u001b[1;33m)\u001b[0m\u001b[1;33m\u001b[0m\u001b[1;33m\u001b[0m\u001b[0m\n\u001b[0m\u001b[0;32m    712\u001b[0m         \u001b[0mhandles\u001b[0m\u001b[1;33m.\u001b[0m\u001b[0mappend\u001b[0m\u001b[1;33m(\u001b[0m\u001b[0mhandle\u001b[0m\u001b[1;33m)\u001b[0m\u001b[1;33m\u001b[0m\u001b[1;33m\u001b[0m\u001b[0m\n\u001b[0;32m    713\u001b[0m \u001b[1;33m\u001b[0m\u001b[0m\n",
      "\u001b[1;31mFileNotFoundError\u001b[0m: [Errno 2] No such file or directory: 'C:\\\\Users\\\\bdagne\\\\OneDrive - Population Services International\\\\Desktop\\\\The data\\\\OTF.xlsx'"
     ]
    }
   ],
   "source": [
    "data = pd.read_excel('C:\\\\Users\\\\bdagne\\\\OneDrive - Population Services International\\\\Desktop\\\\The data\\\\OTF.xlsx') \n",
    "data.head(5)"
   ]
  },
  {
   "cell_type": "code",
   "execution_count": null,
   "id": "c973006c",
   "metadata": {
    "scrolled": true
   },
   "outputs": [],
   "source": [
    "# different contraceptive methods\n",
    "warnings.filterwarnings('ignore')\n",
    "plt.rcParams['figure.figsize'] = (10, 6)\n",
    "plt.style.use('Solarize_Light2')\n",
    "\n",
    "data_n = data['method_received'].value_counts()\n",
    "data_n.head(10).plot.bar(color = 'teal')\n",
    "\n",
    "plt.title('Contraceptive Methods Recieved',fontsize = 30, color = 'black')\n",
    "plt.xticks(rotation = 90)\n",
    "plt.show()"
   ]
  },
  {
   "cell_type": "code",
   "execution_count": null,
   "id": "55eb4533",
   "metadata": {},
   "outputs": [],
   "source": [
    "# different contraceptive methods\n",
    "warnings.filterwarnings('ignore')\n",
    "plt.rcParams['figure.figsize'] = (10, 6)\n",
    "plt.style.use('Solarize_Light2')\n",
    "\n",
    "data_n = data['are_you_pregnant'].value_counts()\n",
    "data_n.head(10).plot.bar(color = 'teal')\n",
    "plt.title('Pregnancy Status ',fontsize = 30, color = 'black')\n",
    "plt.xticks(rotation = 90)\n",
    "plt.show()"
   ]
  },
  {
   "cell_type": "markdown",
   "id": "1302c8b1",
   "metadata": {},
   "source": [
    "# Data Cleaning"
   ]
  },
  {
   "cell_type": "code",
   "execution_count": null,
   "id": "ed2d1abd",
   "metadata": {},
   "outputs": [],
   "source": [
    "data.isnull().sum()"
   ]
  },
  {
   "cell_type": "code",
   "execution_count": null,
   "id": "4adb9cbf",
   "metadata": {},
   "outputs": [],
   "source": [
    "data.girl_age.hist()"
   ]
  },
  {
   "cell_type": "code",
   "execution_count": null,
   "id": "9480c719",
   "metadata": {},
   "outputs": [],
   "source": [
    "#define values\n",
    "values = [15, 16, 17, 18, 19, 20, 21, 22, 23, 24]\n",
    "\n",
    "#drop rows that contain any value in the list\n",
    "data1 = data[data.girl_age.isin(values) == True]"
   ]
  },
  {
   "cell_type": "markdown",
   "id": "f8808ec8",
   "metadata": {},
   "source": [
    "# Referred"
   ]
  },
  {
   "cell_type": "code",
   "execution_count": null,
   "id": "d8008a62",
   "metadata": {},
   "outputs": [],
   "source": [
    "#define values\n",
    "region_values = ['Sidama']\n",
    "\n",
    "#drop rows that contain any value in the list\n",
    "data2 = data1[data1['region '].isin(region_values) == False]"
   ]
  },
  {
   "cell_type": "code",
   "execution_count": null,
   "id": "6288a8ca",
   "metadata": {},
   "outputs": [],
   "source": [
    "data2"
   ]
  },
  {
   "cell_type": "markdown",
   "id": "02c969a4",
   "metadata": {},
   "source": [
    "# Normalization"
   ]
  },
  {
   "cell_type": "code",
   "execution_count": null,
   "id": "861ea4ce",
   "metadata": {},
   "outputs": [],
   "source": [
    "t = data1['are_you_pregnant'].value_counts()\n",
    "table = pd.DataFrame(data=t.values, index=t.index, columns=['Pregnant Count'])\n",
    "\n",
    "table.rename({'index': 'Division'}, axis='columns', inplace=True)\n",
    "table\n"
   ]
  },
  {
   "cell_type": "code",
   "execution_count": null,
   "id": "baf53220",
   "metadata": {},
   "outputs": [],
   "source": [
    "data2.are_you_pregnant.replace({'N - Not pregnan': 'NP',\n",
    "                            'UN - Unknown': 'UN',\n",
    "                               'ghvg':'UN'}, inplace= True)"
   ]
  },
  {
   "cell_type": "code",
   "execution_count": null,
   "id": "77138140",
   "metadata": {},
   "outputs": [],
   "source": [
    "data2.rename(columns = {\"gilr_referred_to_health_post_or_ msi_outreach_team_to_take_up_a_method\":\"Referred\", \"location_of_smart_ start_follow_up\":\"Premise\", \"pregnancy_ test\":\"P_test\", \"region \":\"Region\", \"discussion_includes_husband \":\"Hus\", \"referred_ by\":\"Referred_by\", \"girl_age\":\"Age\", \"method_received\":\"Method\", \"number_of_children\":\"Children\", \"referred_by\":\"Referred_by\", \"session_type\":\"S_type\", \"used_ec_or_condoms_last_time_you_had_sex\":\"CEC\", \"are_you_pregnant\":\"Pregnant\"}, inplace= True)\n",
    "data2.columns"
   ]
  },
  {
   "cell_type": "code",
   "execution_count": null,
   "id": "f88e15b0",
   "metadata": {},
   "outputs": [],
   "source": [
    "r = data1['referred_ by'].value_counts()\n",
    "table = pd.DataFrame(data=r.values, index=r.index, columns=['Reffered by Count'])\n",
    "\n",
    "table.rename({'index': 'Division'}, axis='columns', inplace=True)\n",
    "table"
   ]
  },
  {
   "cell_type": "code",
   "execution_count": null,
   "id": "6478e02b",
   "metadata": {},
   "outputs": [],
   "source": [
    "data2.Referred_by.replace({'Friend/peer': 'Friend/Peer'}, inplace= True)"
   ]
  },
  {
   "cell_type": "code",
   "execution_count": null,
   "id": "4b57eaa0",
   "metadata": {},
   "outputs": [],
   "source": [
    "r = data2['Referred_by'].value_counts()\n",
    "table = pd.DataFrame(data=r.values, index=r.index, columns=['Reffered by Count'])\n",
    "\n",
    "table.rename({'index': 'Division'}, axis='columns', inplace=True)\n",
    "table"
   ]
  },
  {
   "cell_type": "code",
   "execution_count": null,
   "id": "12c51b30",
   "metadata": {
    "scrolled": false
   },
   "outputs": [],
   "source": [
    "cols = ['Region', 'Pregnant', 'Hus', 'Age', 'Premise', 'Children', 'P_test', 'Referred_by', 'S_type', 'CEC', 'Referred', 'Method']\n",
    "data3 = data2[cols]\n",
    "data3.head(5)"
   ]
  },
  {
   "cell_type": "markdown",
   "id": "3f9a4972",
   "metadata": {},
   "source": [
    "# Data Transformation"
   ]
  },
  {
   "cell_type": "code",
   "execution_count": null,
   "id": "b88986e3",
   "metadata": {},
   "outputs": [],
   "source": [
    "label_encoder = LabelEncoder()"
   ]
  },
  {
   "cell_type": "code",
   "execution_count": null,
   "id": "1b8bd592",
   "metadata": {},
   "outputs": [],
   "source": [
    "data3.Region = label_encoder.fit_transform(data3['Region'])\n",
    "data3.Hus = label_encoder.fit_transform(data3['Hus'])\n",
    "data3.Premise = label_encoder.fit_transform(data3['Premise'])\n",
    "data3.Children = label_encoder.fit_transform(data3['Children'])\n",
    "data3.P_test = label_encoder.fit_transform(data3['P_test'])\n",
    "data3.Referred_by = label_encoder.fit_transform(data3['Referred_by'])\n",
    "data3.S_type = label_encoder.fit_transform(data3['S_type'])\n",
    "data3.CEC = label_encoder.fit_transform(data3['CEC'])\n",
    "data3.Pregnant = label_encoder.fit_transform(data3['Pregnant'])\n",
    "data3.Referred = label_encoder.fit_transform(data3['Referred'])\n",
    "data3.Method = label_encoder.fit_transform(data3['Method'])"
   ]
  },
  {
   "cell_type": "code",
   "execution_count": null,
   "id": "35b76fb8",
   "metadata": {},
   "outputs": [],
   "source": [
    "data3.head(5)"
   ]
  },
  {
   "cell_type": "markdown",
   "id": "53637056",
   "metadata": {},
   "source": [
    "# 1. girl referred to health post or msi outreach team to take up a method"
   ]
  },
  {
   "cell_type": "code",
   "execution_count": null,
   "id": "b63e0ac7",
   "metadata": {},
   "outputs": [],
   "source": [
    "data4 = data3.drop(columns=[\"Method\"], axis = 1)"
   ]
  },
  {
   "cell_type": "code",
   "execution_count": null,
   "id": "806ba855",
   "metadata": {},
   "outputs": [],
   "source": [
    "x = data3[[\"Region\", \"Hus\", \"Age\", \"Premise\", \"Children\", \"P_test\", \"Referred_by\", \"S_type\", \"CEC\", \"Pregnant\"]]\n",
    "y = data3[[\"Referred\"]]"
   ]
  },
  {
   "cell_type": "markdown",
   "id": "1e1a522e",
   "metadata": {},
   "source": [
    "# Class Balancing"
   ]
  },
  {
   "cell_type": "code",
   "execution_count": null,
   "id": "5db7dff6",
   "metadata": {},
   "outputs": [],
   "source": [
    "warnings.filterwarnings('ignore')\n",
    "class_count = data3['Referred'].value_counts()\n",
    "sns.set(style=\"darkgrid\")\n",
    "sns.barplot(class_count.index, class_count.values, alpha=0.9)\n",
    "plt.title('Frequency Distribution of Class')\n",
    "plt.ylabel('Number of girls', fontsize=12)\n",
    "plt.xlabel('Referred', fontsize=12)\n",
    "plt.show()"
   ]
  },
  {
   "cell_type": "markdown",
   "id": "d5d505a6",
   "metadata": {},
   "source": [
    "#over-sampling with smote"
   ]
  },
  {
   "cell_type": "code",
   "execution_count": null,
   "id": "7248a92a",
   "metadata": {},
   "outputs": [],
   "source": [
    "#pip install imblearn"
   ]
  },
  {
   "cell_type": "code",
   "execution_count": null,
   "id": "5b96b9c7",
   "metadata": {},
   "outputs": [],
   "source": [
    "from imblearn import under_sampling, over_sampling\n",
    "from imblearn.over_sampling import SMOTE"
   ]
  },
  {
   "cell_type": "code",
   "execution_count": null,
   "id": "5251ea43",
   "metadata": {},
   "outputs": [],
   "source": [
    "smote = SMOTE()\n",
    "X_re ,Y_re= smote.fit_resample(x,y)"
   ]
  },
  {
   "cell_type": "code",
   "execution_count": null,
   "id": "c148ca06",
   "metadata": {},
   "outputs": [],
   "source": [
    "len(X_re)"
   ]
  },
  {
   "cell_type": "markdown",
   "id": "cf716835",
   "metadata": {},
   "source": [
    "#under sampling with random under sampler"
   ]
  },
  {
   "cell_type": "code",
   "execution_count": null,
   "id": "a8d60df4",
   "metadata": {},
   "outputs": [],
   "source": [
    "from imblearn.under_sampling import RandomUnderSampler"
   ]
  },
  {
   "cell_type": "code",
   "execution_count": null,
   "id": "3b8fba2c",
   "metadata": {},
   "outputs": [],
   "source": [
    "under = RandomUnderSampler()\n",
    "X_res ,Y_res= under.fit_resample(x, y)"
   ]
  },
  {
   "cell_type": "code",
   "execution_count": null,
   "id": "70509837",
   "metadata": {},
   "outputs": [],
   "source": [
    "len(X_res)"
   ]
  },
  {
   "cell_type": "markdown",
   "id": "a635e020",
   "metadata": {},
   "source": [
    "# Cross Validation"
   ]
  },
  {
   "cell_type": "code",
   "execution_count": null,
   "id": "a6fb752d",
   "metadata": {},
   "outputs": [],
   "source": [
    "# evaluate Models using 10-fold cross-validation\n",
    "from numpy import mean\n",
    "#from numpy import std\n",
    "from sklearn.datasets import make_classification\n",
    "from sklearn.model_selection import KFold\n",
    "from sklearn.model_selection import cross_val_score\n",
    "# prepare the cross-validation procedure\n",
    "cv = KFold(n_splits=10, random_state=1, shuffle=True)\n",
    "#cv2 = KFold(n_splits=5, random_state=1, shuffle=True)\n",
    "# create model"
   ]
  },
  {
   "cell_type": "markdown",
   "id": "cf4f1780",
   "metadata": {},
   "source": [
    "# Algorithm"
   ]
  },
  {
   "cell_type": "markdown",
   "id": "762c23b4",
   "metadata": {},
   "source": [
    "#Decision Tree"
   ]
  },
  {
   "cell_type": "code",
   "execution_count": null,
   "id": "669a53cb",
   "metadata": {},
   "outputs": [],
   "source": [
    "from sklearn.tree import DecisionTreeClassifier,export_graphviz\n",
    "dt_clf = DecisionTreeClassifier()"
   ]
  },
  {
   "cell_type": "code",
   "execution_count": null,
   "id": "eee3ceb7",
   "metadata": {},
   "outputs": [],
   "source": [
    "#with unbalanced data\n",
    "dt_cv_accuracy = cross_val_score(dt_clf, x, y, cv=cv).mean()\n",
    "print(\"Cross Validation Accuracy DT: %.4f\" % dt_cv_accuracy)"
   ]
  },
  {
   "cell_type": "code",
   "execution_count": null,
   "id": "0b78b692",
   "metadata": {},
   "outputs": [],
   "source": [
    "#balanced class with smote\n",
    "dt_cv_accuracy1 = cross_val_score(dt_clf, X_re, Y_re, cv=cv).mean()\n",
    "print(\"Cross Validation Accuracy DT: %.4f\" % dt_cv_accuracy1)"
   ]
  },
  {
   "cell_type": "code",
   "execution_count": null,
   "id": "fb3fd915",
   "metadata": {},
   "outputs": [],
   "source": [
    "#balanced data with random under sampler\n",
    "dt_cv_accuracy2 = cross_val_score(dt_clf, X_res, Y_res, cv=cv).mean()\n",
    "print(\"Cross Validation Accuracy DT: %.4f\" % dt_cv_accuracy2)"
   ]
  },
  {
   "cell_type": "markdown",
   "id": "8414bd03",
   "metadata": {},
   "source": [
    "#Gradiant Boosting"
   ]
  },
  {
   "cell_type": "code",
   "execution_count": null,
   "id": "4052b86d",
   "metadata": {},
   "outputs": [],
   "source": [
    "from sklearn.ensemble import GradientBoostingClassifier\n",
    "gbMod = GradientBoostingClassifier()"
   ]
  },
  {
   "cell_type": "code",
   "execution_count": null,
   "id": "8c006bde",
   "metadata": {},
   "outputs": [],
   "source": [
    "#with unbalanced data\n",
    "gb_accuracy = cross_val_score(gbMod, x, y, cv=cv).mean()\n",
    "print(\"Cross Validation Accuracy GB: %.4f\" % gb_accuracy)"
   ]
  },
  {
   "cell_type": "code",
   "execution_count": null,
   "id": "ffff601b",
   "metadata": {},
   "outputs": [],
   "source": [
    "#balanced data with smote\n",
    "gb_accuracy1 = cross_val_score(gbMod, X_re, Y_re, cv=cv).mean()\n",
    "print(\"Cross Validation Accuracy GB: %.4f\" % gb_accuracy1)"
   ]
  },
  {
   "cell_type": "code",
   "execution_count": null,
   "id": "a155a41f",
   "metadata": {},
   "outputs": [],
   "source": [
    "#balanced data with random under sampler\n",
    "gb_accuracy2 = cross_val_score(gbMod, X_res, Y_res, cv=cv).mean()\n",
    "print(\"Cross Validation Accuracy GB: %.4f\" % gb_accuracy2)"
   ]
  },
  {
   "cell_type": "markdown",
   "id": "0842adaa",
   "metadata": {},
   "source": [
    "#Random Forest"
   ]
  },
  {
   "cell_type": "code",
   "execution_count": null,
   "id": "cebd4820",
   "metadata": {},
   "outputs": [],
   "source": [
    "from sklearn.ensemble import RandomForestClassifier \n",
    "algorithm =  RandomForestClassifier()"
   ]
  },
  {
   "cell_type": "code",
   "execution_count": null,
   "id": "441c31d5",
   "metadata": {},
   "outputs": [],
   "source": [
    "#with unbalanced data\n",
    "scores = cross_val_score(algorithm, x, y, scoring='accuracy', cv=cv)\n",
    "# report performance\n",
    "print('Accuracy RF: %.4f' % mean(scores))"
   ]
  },
  {
   "cell_type": "code",
   "execution_count": null,
   "id": "f186b7d7",
   "metadata": {},
   "outputs": [],
   "source": [
    "#balanced data with smote\n",
    "scores1 = cross_val_score(algorithm, X_re, Y_re, scoring='accuracy', cv=cv)\n",
    "# report performance\n",
    "print('Accuracy RF: %.4f' % mean(scores1))"
   ]
  },
  {
   "cell_type": "code",
   "execution_count": null,
   "id": "4f0803bf",
   "metadata": {},
   "outputs": [],
   "source": [
    "#balanced data with random under sampler\n",
    "scores2 = cross_val_score(algorithm, X_res, Y_res, scoring='accuracy', cv=cv, n_jobs=-1)\n",
    "# report performance\n",
    "print('Accuracy RF: %.4f' % mean(scores2))"
   ]
  },
  {
   "cell_type": "markdown",
   "id": "5f34a573",
   "metadata": {},
   "source": [
    "#Multi-layer neural network"
   ]
  },
  {
   "cell_type": "code",
   "execution_count": null,
   "id": "e85a4948",
   "metadata": {},
   "outputs": [],
   "source": [
    "# Import MLPClassifer \n",
    "from sklearn.neural_network import MLPClassifier"
   ]
  },
  {
   "cell_type": "code",
   "execution_count": null,
   "id": "910a55b6",
   "metadata": {},
   "outputs": [],
   "source": [
    "#without class balancing\n",
    "model1 = MLPClassifier(hidden_layer_sizes=(5,2),#number of attritube * class values under square root \n",
    "                    random_state=1,\n",
    "                    verbose=False,\n",
    "                    learning_rate_init=0.01)\n",
    "# evaluate model\n",
    "scores = cross_val_score(model1, x, y, scoring='accuracy', cv=cv, n_jobs=-1)\n",
    "# report performance\n",
    "print('Accuracy of MLNN: %.4f' % mean(scores))"
   ]
  },
  {
   "cell_type": "code",
   "execution_count": null,
   "id": "0ec0e45c",
   "metadata": {},
   "outputs": [],
   "source": [
    "# evaluate model\n",
    "scores1 = cross_val_score(model1, X_re, Y_re, scoring='accuracy', cv=cv, n_jobs=-1)\n",
    "# report performance\n",
    "print('Accuracy of MLNN: %.4f' % mean(scores1))"
   ]
  },
  {
   "cell_type": "code",
   "execution_count": null,
   "id": "8f04ba67",
   "metadata": {},
   "outputs": [],
   "source": [
    "# evaluate model\n",
    "scores2 = cross_val_score(model1, X_res, Y_res, scoring='accuracy', cv=cv, n_jobs=-1)\n",
    "# report performance\n",
    "print('Accuracy of MLNN: %.4f' % mean(scores2))"
   ]
  },
  {
   "cell_type": "markdown",
   "id": "18db03a4",
   "metadata": {},
   "source": [
    "# Feature Selection"
   ]
  },
  {
   "cell_type": "markdown",
   "id": "80a7983d",
   "metadata": {},
   "source": [
    "#chi2 test for feature selection"
   ]
  },
  {
   "cell_type": "code",
   "execution_count": null,
   "id": "68ccac3f",
   "metadata": {},
   "outputs": [],
   "source": [
    "from sklearn.feature_selection import SelectKBest, chi2\n",
    "\n",
    "feature_selector = SelectKBest(chi2, k = \"all\")\n",
    "fit = feature_selector.fit(x,y)\n",
    "\n",
    "p_values = pd.DataFrame(fit.pvalues_)\n",
    "scores = pd.DataFrame(fit.scores_)\n",
    "input_variable_names = pd.DataFrame(x.columns)\n",
    "summary_stats = pd.concat([input_variable_names, p_values, scores], axis = 1)\n",
    "summary_stats.columns = [\"input_variable\", \"p_value\", \"chi2_score\"]\n",
    "summary_stats.sort_values(by = \"p_value\", inplace = True)\n",
    "\n",
    "p_value_threshold = 0.05\n",
    "score_threshold = 5\n",
    "\n",
    "selected_variables = summary_stats.loc[(summary_stats[\"chi2_score\"] >= score_threshold) &\n",
    "                                       (summary_stats[\"p_value\"] <= p_value_threshold)]\n",
    "selected_variables1 = selected_variables[\"input_variable\"]\n",
    "X_new = x[selected_variables]"
   ]
  },
  {
   "cell_type": "code",
   "execution_count": null,
   "id": "28e2d6d7",
   "metadata": {},
   "outputs": [],
   "source": [
    "selected_variables1"
   ]
  },
  {
   "cell_type": "code",
   "execution_count": null,
   "id": "f7c1db48",
   "metadata": {},
   "outputs": [],
   "source": [
    "X = data3[[\"Region\", \"Hus\", \"Premise\", \"Children\", \"P_test\", \"Referred_by\", \"S_type\", \"CEC\", \"Pregnant\"]]\n",
    "Y = data3[[\"Referred\"]]"
   ]
  },
  {
   "cell_type": "markdown",
   "id": "40ed4b90",
   "metadata": {},
   "source": [
    "#Decision tree"
   ]
  },
  {
   "cell_type": "code",
   "execution_count": null,
   "id": "0fe3f01a",
   "metadata": {},
   "outputs": [],
   "source": []
  },
  {
   "cell_type": "code",
   "execution_count": null,
   "id": "0dc03b10",
   "metadata": {},
   "outputs": [],
   "source": [
    "dt_cv_accuracy1 = cross_val_score(dt_clf, X, Y, cv=cv).mean()\n",
    "print(\"Cross Validation Accuracy DT: %.4f\" % dt_cv_accuracy1)"
   ]
  },
  {
   "cell_type": "markdown",
   "id": "0e4e80f5",
   "metadata": {},
   "source": [
    "#Gradiant boosting"
   ]
  },
  {
   "cell_type": "code",
   "execution_count": null,
   "id": "27dcddc8",
   "metadata": {},
   "outputs": [],
   "source": [
    "gb_accuracy1 = cross_val_score(gbMod, X, Y, cv=cv).mean()\n",
    "print(\"Cross Validation Accuracy DT: %.4f\" % gb_accuracy1)"
   ]
  },
  {
   "cell_type": "markdown",
   "id": "0b145eae",
   "metadata": {},
   "source": [
    "#Random Forest"
   ]
  },
  {
   "cell_type": "code",
   "execution_count": null,
   "id": "450012c4",
   "metadata": {},
   "outputs": [],
   "source": [
    "scores1 = cross_val_score(algorithm, X, Y, scoring='accuracy', cv=cv, n_jobs=-1)\n",
    "# report performance\n",
    "print('Accuracy RF: %.4f' % mean(scores1))"
   ]
  },
  {
   "cell_type": "markdown",
   "id": "3bbfaa15",
   "metadata": {},
   "source": [
    "#Multi-layer neural network"
   ]
  },
  {
   "cell_type": "code",
   "execution_count": null,
   "id": "9fa3755c",
   "metadata": {},
   "outputs": [],
   "source": [
    "# evaluate model\n",
    "scores = cross_val_score(model1, X, Y, scoring='accuracy', cv=cv, n_jobs=-1)\n",
    "# report performance\n",
    "print('Accuracy of MLNN: %.3f' % mean(scores))"
   ]
  },
  {
   "cell_type": "markdown",
   "id": "0dd3f0f8",
   "metadata": {},
   "source": [
    "# 2. contraceptive method received"
   ]
  },
  {
   "cell_type": "code",
   "execution_count": null,
   "id": "96573f32",
   "metadata": {},
   "outputs": [],
   "source": [
    "x1 = data3[[\"Region\", \"Hus\", \"Age\", \"Premise\", \"Children\", \"P_test\", \"Referred_by\", \"S_type\", \"CEC\", \"Pregnant\", \"Referred\"]]\n",
    "y1 = data3[[\"Method\"]]"
   ]
  },
  {
   "cell_type": "code",
   "execution_count": null,
   "id": "a7d5d54e",
   "metadata": {},
   "outputs": [],
   "source": [
    "#define values\n",
    "values = ['None', 'none']\n",
    "\n",
    "#drop rows that contain any value in the list\n",
    "data6 = data2[data2.Method.isin(values) == False]"
   ]
  },
  {
   "cell_type": "code",
   "execution_count": null,
   "id": "9da91ca5",
   "metadata": {},
   "outputs": [],
   "source": [
    "data6"
   ]
  },
  {
   "cell_type": "code",
   "execution_count": null,
   "id": "e75bf8a9",
   "metadata": {},
   "outputs": [],
   "source": [
    "data6.Region = label_encoder.fit_transform(data6['Region'])\n",
    "data6.Hus = label_encoder.fit_transform(data6['Hus'])\n",
    "data6.Premise = label_encoder.fit_transform(data6['Premise'])\n",
    "data6.Children = label_encoder.fit_transform(data6['Children'])\n",
    "data6.P_test = label_encoder.fit_transform(data6['P_test'])\n",
    "data6.Referred_by = label_encoder.fit_transform(data6['Referred_by'])\n",
    "data6.S_type = label_encoder.fit_transform(data6['S_type'])\n",
    "data6.CEC = label_encoder.fit_transform(data6['CEC'])\n",
    "data6.Pregnant = label_encoder.fit_transform(data6['Pregnant'])\n",
    "data6.Referred = label_encoder.fit_transform(data6['Referred'])\n",
    "data6.Method = label_encoder.fit_transform(data6['Method'])"
   ]
  },
  {
   "cell_type": "markdown",
   "id": "aa91f4bf",
   "metadata": {},
   "source": [
    "# Class balancing"
   ]
  },
  {
   "cell_type": "code",
   "execution_count": null,
   "id": "26b61ab3",
   "metadata": {},
   "outputs": [],
   "source": [
    "warnings.filterwarnings('ignore')\n",
    "class_count = data6['Method'].value_counts()\n",
    "sns.set(style=\"darkgrid\")\n",
    "sns.barplot(class_count.index, class_count.values, alpha=0.9)\n",
    "plt.title('Frequency Distribution of Class')\n",
    "plt.ylabel('Number of girls', fontsize=12)\n",
    "plt.xlabel('Contraceptive method', fontsize=12)\n",
    "plt.show()"
   ]
  },
  {
   "cell_type": "markdown",
   "id": "864d84c7",
   "metadata": {},
   "source": [
    "#over sampling"
   ]
  },
  {
   "cell_type": "code",
   "execution_count": null,
   "id": "2ffd231f",
   "metadata": {},
   "outputs": [],
   "source": [
    "x_re ,y_re= smote.fit_resample(x1,y1)"
   ]
  },
  {
   "cell_type": "markdown",
   "id": "834d0140",
   "metadata": {},
   "source": [
    "#under sampling"
   ]
  },
  {
   "cell_type": "code",
   "execution_count": null,
   "id": "3d74057c",
   "metadata": {},
   "outputs": [],
   "source": [
    "x_res ,y_res= under.fit_resample(x1, y1)"
   ]
  },
  {
   "cell_type": "markdown",
   "id": "6dec5e1f",
   "metadata": {},
   "source": [
    "#Decision Tree"
   ]
  },
  {
   "cell_type": "code",
   "execution_count": null,
   "id": "70eda3be",
   "metadata": {},
   "outputs": [],
   "source": [
    "dt_accuracy = cross_val_score(dt_clf, x1, y1, cv=cv).mean()\n",
    "print(\"Cross Validation Accuracy DT: %.4f\" % dt_accuracy)"
   ]
  },
  {
   "cell_type": "code",
   "execution_count": null,
   "id": "5e7e35ba",
   "metadata": {},
   "outputs": [],
   "source": [
    "dt_accuracy1 = cross_val_score(dt_clf, x_re, y_re, cv=cv).mean()\n",
    "print(\"Cross Validation Accuracy DT: %.4f\" % dt_accuracy1)"
   ]
  },
  {
   "cell_type": "code",
   "execution_count": null,
   "id": "227b7afb",
   "metadata": {},
   "outputs": [],
   "source": [
    "dt_accuracy2 = cross_val_score(dt_clf, x_res, y_res, cv=cv).mean()\n",
    "print(\"Cross Validation Accuracy DT: %.4f\" % dt_accuracy2)"
   ]
  },
  {
   "cell_type": "code",
   "execution_count": null,
   "id": "d37707d6",
   "metadata": {},
   "outputs": [],
   "source": [
    "#Gradiant Boosting"
   ]
  },
  {
   "cell_type": "code",
   "execution_count": null,
   "id": "18e9420c",
   "metadata": {},
   "outputs": [],
   "source": [
    "gb_acc = cross_val_score(gbMod, x1, y1, cv=cv).mean()\n",
    "print(\"Cross Validation Accuracy DT: %.4f\" % gb_acc)"
   ]
  },
  {
   "cell_type": "code",
   "execution_count": null,
   "id": "f8bbad6c",
   "metadata": {},
   "outputs": [],
   "source": [
    "gb_acc1 = cross_val_score(gbMod, x_re, y_re, cv=cv, n_jobs=-1).mean()\n",
    "print(\"Cross Validation Accuracy DT: %.4f\" % gb_acc1)"
   ]
  },
  {
   "cell_type": "code",
   "execution_count": null,
   "id": "526b46f6",
   "metadata": {},
   "outputs": [],
   "source": [
    "gb_acc2 = cross_val_score(gbMod, x_res, y_res, cv=cv,  n_jobs=-1).mean()\n",
    "print(\"Cross Validation Accuracy DT: %.4f\" % gb_acc2)"
   ]
  },
  {
   "cell_type": "code",
   "execution_count": null,
   "id": "df0312c0",
   "metadata": {},
   "outputs": [],
   "source": [
    "#Random Forest"
   ]
  },
  {
   "cell_type": "code",
   "execution_count": null,
   "id": "d91b5648",
   "metadata": {},
   "outputs": [],
   "source": [
    "rf_acc = cross_val_score(algorithm, x1, y1, scoring='accuracy', cv=cv, n_jobs=-1)\n",
    "# report performance\n",
    "print('Accuracy RF: %.4f' % mean(rf_acc))"
   ]
  },
  {
   "cell_type": "code",
   "execution_count": null,
   "id": "d02d6efa",
   "metadata": {},
   "outputs": [],
   "source": [
    "rf_acc1 = cross_val_score(algorithm, x_re, y_re, scoring='accuracy', cv=cv, n_jobs=-1)\n",
    "# report performance\n",
    "print('Accuracy RF: %.4f' % mean(rf_acc1))"
   ]
  },
  {
   "cell_type": "code",
   "execution_count": null,
   "id": "e997283b",
   "metadata": {},
   "outputs": [],
   "source": [
    "rf_acc2 = cross_val_score(algorithm, x_res, y_res, scoring='accuracy', cv=cv, n_jobs=-1)\n",
    "# report performance\n",
    "print('Accuracy RF: %.4f' % mean(rf_acc2))"
   ]
  },
  {
   "cell_type": "code",
   "execution_count": null,
   "id": "79ef3af9",
   "metadata": {},
   "outputs": [],
   "source": [
    "#Multi-layer neural network"
   ]
  },
  {
   "cell_type": "code",
   "execution_count": null,
   "id": "c5d109c4",
   "metadata": {},
   "outputs": [],
   "source": [
    "# evaluate model\n",
    "mlnn_acc = cross_val_score(model1, x1, y1, scoring='accuracy', cv=cv, n_jobs=-1)\n",
    "# report performance\n",
    "print('Accuracy of MLNN: %.4f' % mean(mlnn_acc))"
   ]
  },
  {
   "cell_type": "code",
   "execution_count": null,
   "id": "28dadc4e",
   "metadata": {},
   "outputs": [],
   "source": [
    "# evaluate model\n",
    "mlnn_acc1 = cross_val_score(model1, x_re, y_re, scoring='accuracy', cv=cv, n_jobs=-1)\n",
    "# report performance\n",
    "print('Accuracy of MLNN: %.4f' % mean(mlnn_acc1))"
   ]
  },
  {
   "cell_type": "code",
   "execution_count": null,
   "id": "93f76e49",
   "metadata": {},
   "outputs": [],
   "source": [
    "# evaluate model\n",
    "mlnn_acc1 = cross_val_score(model1, x_res, y_res, scoring='accuracy', cv=cv, n_jobs=-1)\n",
    "# report performance\n",
    "print('Accuracy of MLNN: %.4f' % mean(mlnn_acc1))"
   ]
  },
  {
   "cell_type": "markdown",
   "id": "a61556d8",
   "metadata": {},
   "source": [
    "# Feature Selection"
   ]
  },
  {
   "cell_type": "code",
   "execution_count": null,
   "id": "62ded731",
   "metadata": {},
   "outputs": [],
   "source": [
    "from sklearn.feature_selection import SelectKBest, chi2\n",
    "\n",
    "feature_selector = SelectKBest(chi2, k = \"all\")\n",
    "fit = feature_selector.fit(x1,y1)\n",
    "\n",
    "p_values = pd.DataFrame(fit.pvalues_)\n",
    "scores = pd.DataFrame(fit.scores_)\n",
    "input_variable_names = pd.DataFrame(x1.columns)\n",
    "summary_stats = pd.concat([input_variable_names, p_values, scores], axis = 1)\n",
    "summary_stats.columns = [\"input_variable\", \"p_value\", \"chi2_score\"]\n",
    "summary_stats.sort_values(by = \"p_value\", inplace = True)\n",
    "\n",
    "p_value_threshold = 0.05\n",
    "score_threshold = 5\n",
    "\n",
    "selected_variabless = summary_stats.loc[(summary_stats[\"chi2_score\"] >= score_threshold) &\n",
    "                                       (summary_stats[\"p_value\"] <= p_value_threshold)]\n",
    "selected_variables2 = selected_variabless[\"input_variable\"]\n",
    "X_new = x1[selected_variabless]"
   ]
  },
  {
   "cell_type": "code",
   "execution_count": null,
   "id": "1304d31f",
   "metadata": {},
   "outputs": [],
   "source": [
    "selected_variables2"
   ]
  },
  {
   "cell_type": "code",
   "execution_count": null,
   "id": "19c3e746",
   "metadata": {},
   "outputs": [],
   "source": [
    "X1 = data3[[\"Region\", \"Hus\", \"Premise\", \"Children\", \"P_test\", \"Referred_by\", \"S_type\", \"CEC\", \"Pregnant\", \"Referred\"]]\n",
    "Y1 = data3[[\"Method\"]]"
   ]
  },
  {
   "cell_type": "code",
   "execution_count": null,
   "id": "d2d16098",
   "metadata": {},
   "outputs": [],
   "source": [
    "x_smote ,y_smote= smote.fit_resample(X1,Y1)"
   ]
  },
  {
   "cell_type": "code",
   "execution_count": null,
   "id": "313ab952",
   "metadata": {},
   "outputs": [],
   "source": [
    "rf_accu = cross_val_score(algorithm, X1, Y1, scoring='accuracy', cv=cv, n_jobs=-1)\n",
    "# report performance\n",
    "print('Accuracy RF: %.4f' % mean(rf_accu))"
   ]
  },
  {
   "cell_type": "code",
   "execution_count": null,
   "id": "a9497ce4",
   "metadata": {},
   "outputs": [],
   "source": [
    "rf_accu1 = cross_val_score(algorithm, x_smote, y_smote, scoring='accuracy', cv=cv, n_jobs=-1)\n",
    "# report performance\n",
    "print('Accuracy RF: %.4f' % mean(rf_accu1))"
   ]
  },
  {
   "cell_type": "code",
   "execution_count": null,
   "id": "4d51c6a5",
   "metadata": {},
   "outputs": [],
   "source": [
    "dt_acc = cross_val_score(dt_clf, X1, Y1, cv=cv).mean()\n",
    "print(\"Cross Validation Accuracy DT: %.4f\" % dt_acc)"
   ]
  },
  {
   "cell_type": "code",
   "execution_count": null,
   "id": "2b5a8ba2",
   "metadata": {},
   "outputs": [],
   "source": [
    "dt_acc1 = cross_val_score(dt_clf, x_smote, y_smote, cv=cv).mean()\n",
    "print(\"Cross Validation Accuracy DT: %.4f\" % dt_acc1)"
   ]
  },
  {
   "cell_type": "code",
   "execution_count": null,
   "id": "159666d3",
   "metadata": {},
   "outputs": [],
   "source": [
    "gb_accu = cross_val_score(gbMod, X1, Y1, cv=cv).mean()\n",
    "print(\"Cross Validation Accuracy GB: %.4f\" % gb_accu)"
   ]
  },
  {
   "cell_type": "code",
   "execution_count": null,
   "id": "f1d8e0c5",
   "metadata": {},
   "outputs": [],
   "source": [
    "gb_accu1 = cross_val_score(gbMod, x_smote, y_smote, cv=cv, n_jobs=-1).mean()\n",
    "print(\"Cross Validation Accuracy GB: %.4f\" % gb_accu1)"
   ]
  },
  {
   "cell_type": "code",
   "execution_count": null,
   "id": "23493d97",
   "metadata": {},
   "outputs": [],
   "source": [
    "mlnn_accu = cross_val_score(model1, X1, Y1, scoring='accuracy', cv=cv, n_jobs=-1)\n",
    "# report performance\n",
    "print('Accuracy of MLNN: %.3f' % mean(mlnn_accu))"
   ]
  },
  {
   "cell_type": "code",
   "execution_count": null,
   "id": "4b07b590",
   "metadata": {},
   "outputs": [],
   "source": [
    "mlnn_accu1 = cross_val_score(model1, x_smote, y_smote, scoring='accuracy', cv=cv, n_jobs=-1)\n",
    "# report performance\n",
    "print('Accuracy of MLNN: %.3f' % mean(mlnn_accu1))"
   ]
  },
  {
   "cell_type": "markdown",
   "id": "8fd07bf3",
   "metadata": {},
   "source": [
    "# Hyper-Parameter Tuning"
   ]
  },
  {
   "cell_type": "markdown",
   "id": "d6757eb2",
   "metadata": {},
   "source": [
    "#using randomized search"
   ]
  },
  {
   "cell_type": "code",
   "execution_count": null,
   "id": "15d3c78c",
   "metadata": {},
   "outputs": [],
   "source": [
    "from sklearn.model_selection import RandomizedSearchCV\n",
    "from scipy.stats import randint\n",
    "from sklearn.model_selection import GridSearchCV"
   ]
  },
  {
   "cell_type": "code",
   "execution_count": null,
   "id": "2f872c61",
   "metadata": {},
   "outputs": [],
   "source": [
    "rfHyperParams = {'max_features': randint(1,10),\n",
    "                 'min_samples_split': randint(1,10),\n",
    "                 'min_samples_leaf': randint(1,5),\n",
    "                 'bootstrap': randint(1,5),\n",
    "                 'n_estimators': randint(10, 500),\n",
    "                 'max_depth': randint(1,10)}"
   ]
  },
  {
   "cell_type": "code",
   "execution_count": null,
   "id": "c1723acf",
   "metadata": {},
   "outputs": [],
   "source": [
    "gridSearchRF = RandomizedSearchCV(estimator=algorithm, param_distributions=rfHyperParams, n_iter=10,\n",
    "                                   scoring='roc_auc', verbose=2).fit(x_smote, y_smote)"
   ]
  },
  {
   "cell_type": "code",
   "execution_count": null,
   "id": "579a1fde",
   "metadata": {},
   "outputs": [],
   "source": [
    "gridSearchRF.best_params_,gridSearchRF.best_score_"
   ]
  },
  {
   "cell_type": "code",
   "execution_count": null,
   "id": "885d57a8",
   "metadata": {},
   "outputs": [],
   "source": [
    "rfMod = RandomForestClassifier(max_depth=4, min_samples_split=6,\n",
    "                               min_samples_leaf=2\n",
    "                               )"
   ]
  },
  {
   "cell_type": "code",
   "execution_count": null,
   "id": "a65fa463",
   "metadata": {},
   "outputs": [],
   "source": [
    "rf_accu = cross_val_score(rfMod, x_re, y_re, scoring='accuracy', cv=cv, n_jobs=-1)\n",
    "# report performance\n",
    "print('Accuracy RF: %.4f' % mean(rf_accu))"
   ]
  },
  {
   "cell_type": "code",
   "execution_count": null,
   "id": "d507d4c2",
   "metadata": {},
   "outputs": [],
   "source": [
    "data6.columns"
   ]
  },
  {
   "cell_type": "code",
   "execution_count": null,
   "id": "72c78c44",
   "metadata": {},
   "outputs": [],
   "source": [
    "X1.columns"
   ]
  },
  {
   "cell_type": "markdown",
   "id": "89c9d6b7",
   "metadata": {},
   "source": [
    "# Prediction"
   ]
  },
  {
   "cell_type": "code",
   "execution_count": null,
   "id": "7bdb8870",
   "metadata": {},
   "outputs": [],
   "source": [
    "new_data = [[2, 0, 1, 1, 0, 5, 1, 0, 0, 1],\n",
    "            [2, 1, 1, 2, 0, 5, 0, 0, 0, 1]\n",
    "           ]"
   ]
  },
  {
   "cell_type": "code",
   "execution_count": null,
   "id": "3bb26442",
   "metadata": {},
   "outputs": [],
   "source": [
    "algorithm.fit(X1, Y1)\n",
    "new_output = algorithm.predict(new_data)"
   ]
  },
  {
   "cell_type": "code",
   "execution_count": null,
   "id": "54699d40",
   "metadata": {},
   "outputs": [],
   "source": [
    "new_output"
   ]
  },
  {
   "cell_type": "code",
   "execution_count": null,
   "id": "5e622d8b",
   "metadata": {},
   "outputs": [],
   "source": []
  }
 ],
 "metadata": {
  "kernelspec": {
   "display_name": "Python 3 (ipykernel)",
   "language": "python",
   "name": "python3"
  },
  "language_info": {
   "codemirror_mode": {
    "name": "ipython",
    "version": 3
   },
   "file_extension": ".py",
   "mimetype": "text/x-python",
   "name": "python",
   "nbconvert_exporter": "python",
   "pygments_lexer": "ipython3",
   "version": "3.9.7"
  }
 },
 "nbformat": 4,
 "nbformat_minor": 5
}
